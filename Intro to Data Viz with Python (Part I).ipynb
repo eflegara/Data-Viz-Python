{
 "cells": [
  {
   "cell_type": "markdown",
   "metadata": {
    "id": "RQVPBb0PFLd2"
   },
   "source": [
    "# Introduction to Data Viz with Python (Part I)\n",
    "\n",
    "by [Erika Fille Legara](https://github.com/eflegara) \n",
    "\n",
    "[![Open In Collab](https://colab.research.google.com/assets/colab-badge.svg)](https://colab.research.google.com/github/eflegara/Data-Viz-Python/blob/main/Intro%20to%20Data%20Viz%20with%20Python%20%28Part%20I%29.ipynb)\n",
    "\n",
    "\n",
    "Note: _If clicking the *open in colab* badge doesn't work, right-click on the badge and choose to open in new tab._\n",
    "\n",
    "---"
   ]
  },
  {
   "cell_type": "markdown",
   "metadata": {},
   "source": [
    "In this two-session meeting, we learn about Python's plotting library **[matplotlib](https://matplotlib.org/)**. From its website, it is described as \"_a comprehensive library for creating static, animated, and interactive visualizations in Python._\"  Here, we cover some of the most fundamental aspects of a matplotlib figure, which—in my opinion—is necessary to gain a better understanding of how we can further customize the look of our visualizations.\n",
    "\n",
    "We will then learn about **seaborn** and **plotly**. They'll be introduced in Part II.\n",
    "\n",
    "Note: If you're super new to Python and/or **matplotlib**, you may want to have someone knowledgeable to handhold you as you go through this notebook, especially since this is meant to be accompanied by a lecture."
   ]
  },
  {
   "cell_type": "markdown",
   "metadata": {
    "id": "jwwqRD1zRIOw"
   },
   "source": [
    "---\n",
    "\n",
    "**Let's Begin**\n",
    "\n",
    "First, let's import the libraries. We are already importing `seaborn as sns` as early as now because we will be using some of the datasets in its online repository."
   ]
  },
  {
   "cell_type": "code",
   "execution_count": 1,
   "metadata": {
    "id": "OGA5MVciwo0W"
   },
   "outputs": [],
   "source": [
    "import matplotlib.pyplot as plt\n",
    "import numpy as np\n",
    "import pandas as pd\n",
    "import seaborn as sns\n",
    "\n",
    "%matplotlib inline"
   ]
  },
  {
   "cell_type": "markdown",
   "metadata": {
    "id": "xUsq-TXcIS_M"
   },
   "source": [
    "For those new to Python and Jupyter, `%matplotlib` is what we call a magic function in IPython. *Magics* \"_are useful as convenient functions where Python syntax is not the most natural one, or when one want to embed invalid python syntax in their work flow_\". `%matplotlib inline` \"_sets the backend of matplotlib to the 'inline' backend_\"; in other words, it allows us, well, to show matplotlib figures inline within the notebooks. "
   ]
  },
  {
   "cell_type": "markdown",
   "metadata": {
    "id": "Sko4lgRuJdIp"
   },
   "source": [
    "### Load Data\n",
    "\n",
    "Below, let's load our data from the `seaborn` repository. The first dataset we'll use is [Anscombe's quartet](https://en.wikipedia.org/wiki/Anscombe%27s_quartet). It's a classic example many of us use to show the importance of visualizing your data even at the exploratory level, and that the summary statistics, especially those presented as single values, are insufficient to make conclusions about certain systems."
   ]
  },
  {
   "cell_type": "code",
   "execution_count": 2,
   "metadata": {
    "colab": {
     "base_uri": "https://localhost:8080/",
     "height": 204
    },
    "id": "lI7qEQpvwp25",
    "outputId": "a4edd156-43c6-4d7b-da01-e7182f78601a"
   },
   "outputs": [
    {
     "data": {
      "text/html": [
       "<div>\n",
       "<style scoped>\n",
       "    .dataframe tbody tr th:only-of-type {\n",
       "        vertical-align: middle;\n",
       "    }\n",
       "\n",
       "    .dataframe tbody tr th {\n",
       "        vertical-align: top;\n",
       "    }\n",
       "\n",
       "    .dataframe thead th {\n",
       "        text-align: right;\n",
       "    }\n",
       "</style>\n",
       "<table border=\"1\" class=\"dataframe\">\n",
       "  <thead>\n",
       "    <tr style=\"text-align: right;\">\n",
       "      <th></th>\n",
       "      <th>dataset</th>\n",
       "      <th>x</th>\n",
       "      <th>y</th>\n",
       "    </tr>\n",
       "  </thead>\n",
       "  <tbody>\n",
       "    <tr>\n",
       "      <th>0</th>\n",
       "      <td>I</td>\n",
       "      <td>10.0</td>\n",
       "      <td>8.04</td>\n",
       "    </tr>\n",
       "    <tr>\n",
       "      <th>1</th>\n",
       "      <td>I</td>\n",
       "      <td>8.0</td>\n",
       "      <td>6.95</td>\n",
       "    </tr>\n",
       "    <tr>\n",
       "      <th>2</th>\n",
       "      <td>I</td>\n",
       "      <td>13.0</td>\n",
       "      <td>7.58</td>\n",
       "    </tr>\n",
       "    <tr>\n",
       "      <th>3</th>\n",
       "      <td>I</td>\n",
       "      <td>9.0</td>\n",
       "      <td>8.81</td>\n",
       "    </tr>\n",
       "    <tr>\n",
       "      <th>4</th>\n",
       "      <td>I</td>\n",
       "      <td>11.0</td>\n",
       "      <td>8.33</td>\n",
       "    </tr>\n",
       "  </tbody>\n",
       "</table>\n",
       "</div>"
      ],
      "text/plain": [
       "  dataset     x     y\n",
       "0       I  10.0  8.04\n",
       "1       I   8.0  6.95\n",
       "2       I  13.0  7.58\n",
       "3       I   9.0  8.81\n",
       "4       I  11.0  8.33"
      ]
     },
     "execution_count": 2,
     "metadata": {},
     "output_type": "execute_result"
    }
   ],
   "source": [
    "df_ans = sns.load_dataset('anscombe')\n",
    "df_ans.head()"
   ]
  },
  {
   "cell_type": "code",
   "execution_count": 3,
   "metadata": {
    "colab": {
     "base_uri": "https://localhost:8080/"
    },
    "id": "d3QhDh52R55v",
    "outputId": "71adbb5e-5fa4-4d52-e85b-a5cccb1ce21c"
   },
   "outputs": [
    {
     "name": "stdout",
     "output_type": "stream",
     "text": [
      "<class 'pandas.core.frame.DataFrame'>\n",
      "RangeIndex: 44 entries, 0 to 43\n",
      "Data columns (total 3 columns):\n",
      " #   Column   Non-Null Count  Dtype  \n",
      "---  ------   --------------  -----  \n",
      " 0   dataset  44 non-null     object \n",
      " 1   x        44 non-null     float64\n",
      " 2   y        44 non-null     float64\n",
      "dtypes: float64(2), object(1)\n",
      "memory usage: 1.2+ KB\n"
     ]
    }
   ],
   "source": [
    "df_ans.info()"
   ]
  },
  {
   "cell_type": "markdown",
   "metadata": {
    "id": "ULekc4l2xOag"
   },
   "source": [
    "## Plotting with matplotlib\n",
    "\n",
    "There are at least two ways to build vizzes using **matplotlib** based on its two APIs:\n",
    "\n",
    "1. `pyplot` interface\n",
    "2. Object-oriented interface (OOI)\n",
    "\n",
    "The object-oriented API is used for more complex plotting as we will show later; and, the other is through the `pyplot` interface, which is a scripting layer that's state-based. \"State-based\" means that it takes note of the current `Figure` and the `Axes` objects defined. That is, all changes you implement on a figure will only be implemented a figure (`Axes`) at a time. This can be a bit confusing, but it will get clearer as we move forward with concrete examples. **[pyplot](https://matplotlib.org/stable/api/_as_gen/matplotlib.pyplot.html#module-matplotlib.pyplot)**, among its other purposes, is intended to \"feel\" like MATLAB and is mainly used for much simpler visualizations (i.e., less customizability). You may find **pyplot** easier to use compared to **matplotlib**'s OOI, but the latter, as mentioned, is much more powerful. This latter creates and utilizes an `Axes` object. Again, this idea will be much clearer once we dissect a matplotlib figure.\n",
    "\n",
    "But before we deep dive, here's a quick way to plot with `pyplot` as `plt`."
   ]
  },
  {
   "cell_type": "code",
   "execution_count": 4,
   "metadata": {
    "colab": {
     "base_uri": "https://localhost:8080/",
     "height": 265
    },
    "id": "ceM4aJObwp5Y",
    "outputId": "6e934b0c-2911-4f0b-9f3b-0dad83714fbe"
   },
   "outputs": [
    {
     "data": {
      "image/png": "[encoded data removed]",
      "text/plain": [
       "<Figure size 432x288 with 1 Axes>"
      ]
     },
     "metadata": {
      "needs_background": "light"
     },
     "output_type": "display_data"
    }
   ],
   "source": [
    "## The '.' in the argument indicates the marker style\n",
    "plt.plot(df_ans.x, df_ans.y, '.');"
   ]
  },
  {
   "cell_type": "markdown",
   "metadata": {
    "id": "BxY9h6nALQcd"
   },
   "source": [
    "### Basic plot elements\n",
    "Before we dive into the **matplotlib objects**, let's have a look first at some of the basic plot elements:\n",
    "\n",
    "- `xlabel` - add x-axis label\n",
    "- `ylabel` - add y-axis label\n",
    "- `xlim` - set x-limits of the x-axis\n",
    "- `ylim` - set y-limits of the y-axis\n",
    "- `legend` - add legend"
   ]
  },
  {
   "cell_type": "markdown",
   "metadata": {
    "id": "R-tiYAlkxZOu"
   },
   "source": [
    "Another thing that we need to know is that the default style of a plot is actually a line. That is, if you draw a datapoint, it will not appear (_since there is no line_) unless you explicitly set the marker style to something visible using `'.'` as illustrated below or other marker styles like `'^'` or `'o'`. Check more markers [here](https://matplotlib.org/stable/api/markers_api.html)."
   ]
  },
  {
   "cell_type": "code",
   "execution_count": 5,
   "metadata": {
    "colab": {
     "base_uri": "https://localhost:8080/",
     "height": 265
    },
    "id": "HEGUzYyhWyGt",
    "outputId": "3aa90d50-4aff-43aa-e3ed-6d699441a9c8"
   },
   "outputs": [
    {
     "data": {
      "image/png": "[encoded data removed]",
      "text/plain": [
       "<Figure size 432x288 with 1 Axes>"
      ]
     },
     "metadata": {
      "needs_background": "light"
     },
     "output_type": "display_data"
    }
   ],
   "source": [
    "plt.plot(5, 6);"
   ]
  },
  {
   "cell_type": "code",
   "execution_count": 6,
   "metadata": {
    "colab": {
     "base_uri": "https://localhost:8080/",
     "height": 265
    },
    "id": "a1jBhZgTwqET",
    "outputId": "c60ecc69-8674-4822-85ea-eb053e2c1bec"
   },
   "outputs": [
    {
     "data": {
      "image/png": "[encoded data removed]",
      "text/plain": [
       "<Figure size 432x288 with 1 Axes>"
      ]
     },
     "metadata": {
      "needs_background": "light"
     },
     "output_type": "display_data"
    }
   ],
   "source": [
    "## Adding the marker '.'\n",
    "plt.plot(5, 6, '.');"
   ]
  },
  {
   "cell_type": "markdown",
   "metadata": {
    "id": "avE-y6G4l8ZX"
   },
   "source": [
    "Now, let's make use of the Anscombe's Quartet dataset."
   ]
  },
  {
   "cell_type": "code",
   "execution_count": 7,
   "metadata": {
    "colab": {
     "base_uri": "https://localhost:8080/",
     "height": 279
    },
    "id": "i-Z2kQcokMYK",
    "outputId": "ea9f31a1-fed5-4aca-b401-3a1294daf153"
   },
   "outputs": [
    {
     "data": {
      "image/png": "[encoded data removed]",
      "text/plain": [
       "<Figure size 432x288 with 1 Axes>"
      ]
     },
     "metadata": {
      "needs_background": "light"
     },
     "output_type": "display_data"
    }
   ],
   "source": [
    "## 's' stands for square marker\n",
    "plt.plot(df_ans.x, df_ans.y, 's');\n",
    "plt.xlabel('x axis')\n",
    "plt.ylabel('y axis')\n",
    "plt.xlim(-2,18)\n",
    "plt.ylim(-2,15);"
   ]
  },
  {
   "cell_type": "markdown",
   "metadata": {
    "id": "VcNOZ4EdkL3g"
   },
   "source": [
    "We can also change the colors using special **matplotlib** color abbreviations. **matplotlib** also has a list of other [named colors](https://matplotlib.org/stable/gallery/color/named_colors.html) like \"rebeccapurple\". Of course, you may also use [hex codes](https://htmlcolorcodes.com/).\n",
    "\n",
    "Below, we show a trick that `pyplot` allows us to do, which is to define color abbreviations with a marker, e.g., `'ro'` stands for red and circle marker, `'bs'` will give us blue square markers."
   ]
  },
  {
   "cell_type": "code",
   "execution_count": 8,
   "metadata": {
    "colab": {
     "base_uri": "https://localhost:8080/",
     "height": 279
    },
    "id": "FNJmfdBNk4MW",
    "outputId": "4f559511-98a1-4dc9-a7b2-ba184b537508"
   },
   "outputs": [
    {
     "data": {
      "image/png": "[encoded data removed]",
      "text/plain": [
       "<Figure size 432x288 with 1 Axes>"
      ]
     },
     "metadata": {
      "needs_background": "light"
     },
     "output_type": "display_data"
    }
   ],
   "source": [
    "## Here we're using circle for markers\n",
    "## We're also coloring the datapoints red\n",
    "plt.plot(df_ans.x, df_ans.y, 'ro');\n",
    "plt.xlabel('x axis')\n",
    "plt.ylabel('y axis')\n",
    "plt.xlim(-2,18)\n",
    "plt.ylim(-2,15);"
   ]
  },
  {
   "cell_type": "code",
   "execution_count": 9,
   "metadata": {
    "colab": {
     "base_uri": "https://localhost:8080/",
     "height": 279
    },
    "id": "CLt2OtkNUOSx",
    "outputId": "70fb6484-b921-4032-f180-0aaa7953af3e"
   },
   "outputs": [
    {
     "data": {
      "image/png": "[encoded data removed]",
      "text/plain": [
       "<Figure size 432x288 with 1 Axes>"
      ]
     },
     "metadata": {
      "needs_background": "light"
     },
     "output_type": "display_data"
    }
   ],
   "source": [
    "## Here we're using sqaure for markers\n",
    "## We're also coloring the datapoints blue\n",
    "plt.plot(df_ans.x, df_ans.y, 'bs');\n",
    "plt.xlabel('x axis')\n",
    "plt.ylabel('y axis')\n",
    "plt.xlim(-2,18)\n",
    "plt.ylim(-2,15);"
   ]
  },
  {
   "cell_type": "markdown",
   "metadata": {
    "id": "Dk2IR815UUvS"
   },
   "source": [
    "However, if we want to use other colors (other than the abbreviations), we need to define separately from the marker syle.\n",
    "\n",
    "Notice as well the `linestyle` argument that we have defined as empty. See what happens if you remove that argument. "
   ]
  },
  {
   "cell_type": "code",
   "execution_count": 10,
   "metadata": {
    "colab": {
     "base_uri": "https://localhost:8080/",
     "height": 279
    },
    "id": "ezLgfIajYO8J",
    "outputId": "b8a79abf-c9d6-4d13-b94a-2a5fdc01e135"
   },
   "outputs": [
    {
     "data": {
      "image/png": "[encoded data removed]",
      "text/plain": [
       "<Figure size 432x288 with 1 Axes>"
      ]
     },
     "metadata": {
      "needs_background": "light"
     },
     "output_type": "display_data"
    }
   ],
   "source": [
    "## Here we're using triangle for markers\n",
    "## We're also coloring the datapoints rebecca purple\n",
    "plt.plot(df_ans.x, df_ans.y, color='rebeccapurple', \n",
    "         marker='^', linestyle='');\n",
    "plt.xlabel('x axis')\n",
    "plt.ylabel('y axis')\n",
    "plt.xlim(-2,18)\n",
    "plt.ylim(-2,15);"
   ]
  },
  {
   "cell_type": "markdown",
   "metadata": {
    "id": "q1ytpKMYU3bB"
   },
   "source": [
    "What are the other linestyles?"
   ]
  },
  {
   "cell_type": "code",
   "execution_count": 11,
   "metadata": {
    "colab": {
     "base_uri": "https://localhost:8080/",
     "height": 265
    },
    "id": "XDtIFkzjnOI1",
    "outputId": "8ddc5176-59f1-47ef-94bb-3a6466ee786b"
   },
   "outputs": [
    {
     "data": {
      "image/png": "[encoded data removed]",
      "text/plain": [
       "<Figure size 432x288 with 1 Axes>"
      ]
     },
     "metadata": {
      "needs_background": "light"
     },
     "output_type": "display_data"
    }
   ],
   "source": [
    "## Let's generate a random dataset we call \"y\"\n",
    "y = np.random.randn(365).cumsum()\n",
    "plt.plot(y, color='rebeccapurple', linestyle='--');"
   ]
  },
  {
   "cell_type": "code",
   "execution_count": 12,
   "metadata": {
    "colab": {
     "base_uri": "https://localhost:8080/",
     "height": 265
    },
    "id": "KCkwVKzOnzY-",
    "outputId": "9d97cd0d-25bc-4723-b7ae-d65f4ac43e99"
   },
   "outputs": [
    {
     "data": {
      "image/png": "[encoded data removed]",
      "text/plain": [
       "<Figure size 432x288 with 1 Axes>"
      ]
     },
     "metadata": {
      "needs_background": "light"
     },
     "output_type": "display_data"
    }
   ],
   "source": [
    "y = np.random.randn(365).cumsum()\n",
    "plt.plot(y, color='crimson', linestyle='-.');"
   ]
  },
  {
   "cell_type": "code",
   "execution_count": 13,
   "metadata": {
    "colab": {
     "base_uri": "https://localhost:8080/",
     "height": 265
    },
    "id": "uv7f-oDUn2oE",
    "outputId": "d75de38e-e9c6-4d37-b8d3-bca5c7f05632"
   },
   "outputs": [
    {
     "data": {
      "image/png": "[encoded data removed]",
      "text/plain": [
       "<Figure size 432x288 with 1 Axes>"
      ]
     },
     "metadata": {
      "needs_background": "light"
     },
     "output_type": "display_data"
    }
   ],
   "source": [
    "y = np.random.randn(365).cumsum()\n",
    "plt.plot(y, color='#0F6C09', linestyle=':', label='random');\n",
    "plt.legend();"
   ]
  },
  {
   "cell_type": "markdown",
   "metadata": {
    "id": "UlvkSjQSoLET"
   },
   "source": [
    "### The Object-Oriented interface"
   ]
  },
  {
   "cell_type": "markdown",
   "metadata": {
    "id": "apttBnh_NNDH"
   },
   "source": [
    "So far, we have been using the `pyplot` interface which has allowed us to change colors, marker styles, and line styles; we also were able to add axis labels and set axes limits. But what if, for example, we want to perform more modifications on our plots? Say, we want a bigger canvas? Or, what if we want to remove the borders of the plot, and more? Or, if we want subplots and grids?\n",
    "\n",
    "To do this, we need to have to use **matplotlib**'s more powerful object-oriented interface. Here, we formally introduce the `Figure` and `Axes` objects."
   ]
  },
  {
   "cell_type": "markdown",
   "metadata": {
    "id": "Kmgn3QmxxKKQ"
   },
   "source": [
    "#### The matplotlib Figure( ) instance\n",
    "In the image below, we look at the different parts of a `matplotlib` figure [[1](https://matplotlib.org/1.5.3/faq/usage_faq.html)]. Here, we have the `Figure` instance, a figure \"child\" called the `Axes` and the different components of `Axes` that can also be called as `Axes`'s children. A figure can contain many children `Axes`, but a given `Axes` object can only be in one `Figure`. `Axes` are members of the <font color='blue'>*artists*</font> group, which also include `Figure`, `title`, `x-label`, `y-label`, the `lines`, etc.\n",
    "\n",
    "<img src=\"https://user-images.githubusercontent.com/12478436/118991771-97638400-b9b6-11eb-882d-61da70cb65db.png\" title=\"canvas\" width=550>\n",
    "\n",
    "\n",
    "Below is another diagram highlighting the different parts of a figure [[1](https://matplotlib.org/faq/usage_faq.html)]. It would be easier to think that a **matplotlib** figure's composed of **encodings**, and that encoding is editable. \n",
    "\n",
    "\n",
    "<img src=\"https://user-images.githubusercontent.com/12478436/118991902-b95d0680-b9b6-11eb-907f-0c604f0039c1.png\" title=\"anatomy\" width=650>\n"
   ]
  },
  {
   "cell_type": "markdown",
   "metadata": {
    "id": "IxJo6NYJxULo"
   },
   "source": [
    "### Plotting with OOI"
   ]
  },
  {
   "cell_type": "code",
   "execution_count": 14,
   "metadata": {
    "colab": {
     "base_uri": "https://localhost:8080/",
     "height": 265
    },
    "id": "3oigIsFnaeNO",
    "outputId": "8ffa15bb-f237-4dc6-bc2c-af2962ed9ece"
   },
   "outputs": [
    {
     "data": {
      "image/png": "[encoded data removed]",
      "text/plain": [
       "<Figure size 432x288 with 1 Axes>"
      ]
     },
     "metadata": {
      "needs_background": "light"
     },
     "output_type": "display_data"
    }
   ],
   "source": [
    "## Still using pyplot\n",
    "plt.plot(df_ans.x,df_ans.y, '^');"
   ]
  },
  {
   "cell_type": "code",
   "execution_count": 15,
   "metadata": {
    "colab": {
     "base_uri": "https://localhost:8080/",
     "height": 320
    },
    "id": "y4JBrlACocAU",
    "outputId": "ff99ce81-f091-4b06-f4d6-f81797061fd9"
   },
   "outputs": [
    {
     "data": {
      "image/png": "[encoded data removed]",
      "text/plain": [
       "<Figure size 576x360 with 1 Axes>"
      ]
     },
     "metadata": {
      "needs_background": "light"
     },
     "output_type": "display_data"
    }
   ],
   "source": [
    "## Here, we explicitly use both Figure and Axes objects\n",
    "fig, ax = plt.subplots(1,1,figsize=(8,5))\n",
    "ax.plot(df_ans.x,df_ans.y, '^');"
   ]
  },
  {
   "cell_type": "markdown",
   "metadata": {
    "id": "2Npz8yP0WqMW"
   },
   "source": [
    "The `plt.subplots( )` allows us to create a figure (`fig`) and a set of subplots (stored in `ax`). For the specific example above, the \"set of subplots\" contains only one plot or, more technically, one `Axes`."
   ]
  },
  {
   "cell_type": "markdown",
   "metadata": {
    "id": "LUm3ZpVLxezM"
   },
   "source": [
    "#### Axes Children\n",
    "Let's check the components of our `Axes` object."
   ]
  },
  {
   "cell_type": "code",
   "execution_count": 16,
   "metadata": {
    "colab": {
     "base_uri": "https://localhost:8080/"
    },
    "id": "XF_2sfYJwqIh",
    "outputId": "5468a72e-9e9a-4683-d3cd-91f5038cf4bc"
   },
   "outputs": [
    {
     "data": {
      "text/plain": [
       "[<matplotlib.lines.Line2D at 0x7fa1c83ee6a0>,\n",
       " <matplotlib.spines.Spine at 0x7fa2182b61f0>,\n",
       " <matplotlib.spines.Spine at 0x7fa2182b6310>,\n",
       " <matplotlib.spines.Spine at 0x7fa2182b69d0>,\n",
       " <matplotlib.spines.Spine at 0x7fa2182b69a0>,\n",
       " <matplotlib.axis.XAxis at 0x7fa2182b6340>,\n",
       " <matplotlib.axis.YAxis at 0x7fa2182caeb0>,\n",
       " Text(0.5, 1.0, ''),\n",
       " Text(0.0, 1.0, ''),\n",
       " Text(1.0, 1.0, ''),\n",
       " <matplotlib.patches.Rectangle at 0x7fa1c83f4970>]"
      ]
     },
     "execution_count": 16,
     "metadata": {},
     "output_type": "execute_result"
    }
   ],
   "source": [
    "ax.get_children()"
   ]
  },
  {
   "cell_type": "markdown",
   "metadata": {
    "id": "sSR0dOwqxhdh"
   },
   "source": [
    "Let's specify the axes limits of the `Axes` object."
   ]
  },
  {
   "cell_type": "code",
   "execution_count": 17,
   "metadata": {
    "colab": {
     "base_uri": "https://localhost:8080/",
     "height": 324
    },
    "id": "_b31gNxbwqKm",
    "outputId": "cd701525-2ff7-456b-f04a-0a3b43886f9b"
   },
   "outputs": [
    {
     "data": {
      "image/png": "[encoded data removed]",
      "text/plain": [
       "<Figure size 360x360 with 1 Axes>"
      ]
     },
     "metadata": {
      "needs_background": "light"
     },
     "output_type": "display_data"
    }
   ],
   "source": [
    "fig, ax = plt.subplots(1,1,figsize=(5,5))\n",
    "ax.plot(df_ans.x,df_ans.y, '^');\n",
    "ax.axis([0,20,0,20]);"
   ]
  },
  {
   "cell_type": "code",
   "execution_count": 18,
   "metadata": {
    "colab": {
     "base_uri": "https://localhost:8080/",
     "height": 269
    },
    "id": "Xs19W_FBpY8g",
    "outputId": "d7ebd782-5af8-411b-8a55-05d08b9deaf0"
   },
   "outputs": [
    {
     "data": {
      "image/png": "[encoded data removed]",
      "text/plain": [
       "<Figure size 432x288 with 1 Axes>"
      ]
     },
     "metadata": {
      "needs_background": "light"
     },
     "output_type": "display_data"
    }
   ],
   "source": [
    "fig, ax = plt.subplots(1)\n",
    "ax.plot(18, 9, '.');\n",
    "ax.plot(11, 8, 'go')\n",
    "ax.plot(3, 8, 'bo')\n",
    "ax.axis([0,20,0,10]);"
   ]
  },
  {
   "cell_type": "code",
   "execution_count": 19,
   "metadata": {
    "colab": {
     "base_uri": "https://localhost:8080/"
    },
    "id": "6lrxIQjhplN8",
    "outputId": "a4d07d53-2ba0-4a66-c452-94cd2a01d759"
   },
   "outputs": [
    {
     "data": {
      "text/plain": [
       "[<matplotlib.lines.Line2D at 0x7fa218148c40>,\n",
       " <matplotlib.lines.Line2D at 0x7fa1e88768b0>,\n",
       " <matplotlib.lines.Line2D at 0x7fa22854c5b0>,\n",
       " <matplotlib.spines.Spine at 0x7fa228544d30>,\n",
       " <matplotlib.spines.Spine at 0x7fa2285443a0>,\n",
       " <matplotlib.spines.Spine at 0x7fa228544190>,\n",
       " <matplotlib.spines.Spine at 0x7fa2285446a0>,\n",
       " <matplotlib.axis.XAxis at 0x7fa228544f40>,\n",
       " <matplotlib.axis.YAxis at 0x7fa209479340>,\n",
       " Text(0.5, 1.0, ''),\n",
       " Text(0.0, 1.0, ''),\n",
       " Text(1.0, 1.0, ''),\n",
       " <matplotlib.patches.Rectangle at 0x7fa20948c520>]"
      ]
     },
     "execution_count": 19,
     "metadata": {},
     "output_type": "execute_result"
    }
   ],
   "source": [
    "ax.get_children()"
   ]
  },
  {
   "cell_type": "markdown",
   "metadata": {
    "id": "EQNtfiZ2xtLF"
   },
   "source": [
    "So far, we haven't really shown yet how the OOI approach is more powerful than the `pyplot` interface. But below, we show what else we can do using OOI. \n",
    "\n",
    "In this example, we initially use the `pyplot` interface. And then, we ge the current `Axes` with the `plt.gca()` command. We then store the results in `ax`, which, for this particular example, contains one `Axes`. Using `ax`, we can make some more modifications like removing the top and right spines of our figure (or `Axes` object)."
   ]
  },
  {
   "cell_type": "code",
   "execution_count": 20,
   "metadata": {
    "colab": {
     "base_uri": "https://localhost:8080/",
     "height": 265
    },
    "id": "dAhfjRPUxuRA",
    "outputId": "398e27d8-d730-4538-9394-eb9a0b3a8e9a"
   },
   "outputs": [
    {
     "data": {
      "image/png": "[encoded data removed]",
      "text/plain": [
       "<Figure size 432x288 with 1 Axes>"
      ]
     },
     "metadata": {
      "needs_background": "light"
     },
     "output_type": "display_data"
    }
   ],
   "source": [
    "plt.plot(18, 9, '.');\n",
    "plt.plot(11, 8, 'go');\n",
    "plt.plot(3, 8, 'bo');\n",
    "ax = plt.gca();\n",
    "\n",
    "ax.spines['top'].set_visible(False)\n",
    "ax.spines['right'].set_visible(False)\n",
    "ax.spines['bottom'].set_visible(True)\n",
    "ax.spines['left'].set_visible(True);"
   ]
  },
  {
   "cell_type": "markdown",
   "metadata": {
    "id": "9sw8x9vjX2ES"
   },
   "source": [
    "Below, we are generating this same plot, but we're using OOI at the onset by using `fig, ax = plt.subplots(1)`."
   ]
  },
  {
   "cell_type": "code",
   "execution_count": 21,
   "metadata": {
    "colab": {
     "base_uri": "https://localhost:8080/",
     "height": 269
    },
    "id": "mj-X0Ui3bnkl",
    "outputId": "a424cf48-6f3a-45b8-be44-e4e8ba55a8e2"
   },
   "outputs": [
    {
     "data": {
      "image/png": "[encoded data removed]",
      "text/plain": [
       "<Figure size 432x288 with 1 Axes>"
      ]
     },
     "metadata": {
      "needs_background": "light"
     },
     "output_type": "display_data"
    }
   ],
   "source": [
    "fig, ax = plt.subplots(1)\n",
    "ax.plot(18, 9, '.');\n",
    "ax.plot(11, 8, 'go')\n",
    "ax.plot(3, 8, 'bo')\n",
    "ax.axis([0,20,0,10]);\n",
    "\n",
    "ax.spines['top'].set_visible(False)\n",
    "ax.spines['right'].set_visible(False)\n",
    "ax.spines['bottom'].set_visible(True)\n",
    "ax.spines['left'].set_visible(True);"
   ]
  },
  {
   "cell_type": "markdown",
   "metadata": {
    "id": "27ox_9DKxxHS"
   },
   "source": [
    "### Scatter Plots\n",
    "It was mentioned earlier that `plot` actually refers to a line plot. If we really want scatter plots, **matplotlib** has a function that generates those."
   ]
  },
  {
   "cell_type": "code",
   "execution_count": 22,
   "metadata": {
    "colab": {
     "base_uri": "https://localhost:8080/",
     "height": 204
    },
    "id": "niuQqNdxxwu2",
    "outputId": "9f3fd35a-af3d-44b0-c998-1806cee660c9"
   },
   "outputs": [
    {
     "data": {
      "text/html": [
       "<div>\n",
       "<style scoped>\n",
       "    .dataframe tbody tr th:only-of-type {\n",
       "        vertical-align: middle;\n",
       "    }\n",
       "\n",
       "    .dataframe tbody tr th {\n",
       "        vertical-align: top;\n",
       "    }\n",
       "\n",
       "    .dataframe thead th {\n",
       "        text-align: right;\n",
       "    }\n",
       "</style>\n",
       "<table border=\"1\" class=\"dataframe\">\n",
       "  <thead>\n",
       "    <tr style=\"text-align: right;\">\n",
       "      <th></th>\n",
       "      <th>dataset</th>\n",
       "      <th>x</th>\n",
       "      <th>y</th>\n",
       "    </tr>\n",
       "  </thead>\n",
       "  <tbody>\n",
       "    <tr>\n",
       "      <th>0</th>\n",
       "      <td>I</td>\n",
       "      <td>10.0</td>\n",
       "      <td>8.04</td>\n",
       "    </tr>\n",
       "    <tr>\n",
       "      <th>1</th>\n",
       "      <td>I</td>\n",
       "      <td>8.0</td>\n",
       "      <td>6.95</td>\n",
       "    </tr>\n",
       "    <tr>\n",
       "      <th>2</th>\n",
       "      <td>I</td>\n",
       "      <td>13.0</td>\n",
       "      <td>7.58</td>\n",
       "    </tr>\n",
       "    <tr>\n",
       "      <th>3</th>\n",
       "      <td>I</td>\n",
       "      <td>9.0</td>\n",
       "      <td>8.81</td>\n",
       "    </tr>\n",
       "    <tr>\n",
       "      <th>4</th>\n",
       "      <td>I</td>\n",
       "      <td>11.0</td>\n",
       "      <td>8.33</td>\n",
       "    </tr>\n",
       "  </tbody>\n",
       "</table>\n",
       "</div>"
      ],
      "text/plain": [
       "  dataset     x     y\n",
       "0       I  10.0  8.04\n",
       "1       I   8.0  6.95\n",
       "2       I  13.0  7.58\n",
       "3       I   9.0  8.81\n",
       "4       I  11.0  8.33"
      ]
     },
     "execution_count": 22,
     "metadata": {},
     "output_type": "execute_result"
    }
   ],
   "source": [
    "df_ans.head()"
   ]
  },
  {
   "cell_type": "code",
   "execution_count": 23,
   "metadata": {
    "colab": {
     "base_uri": "https://localhost:8080/",
     "height": 279
    },
    "id": "SmUCVLoBx3r8",
    "outputId": "e588abb2-afd3-4c71-da8c-a384e0c6a504"
   },
   "outputs": [
    {
     "data": {
      "image/png": "[encoded data removed]",
      "text/plain": [
       "<Figure size 432x288 with 1 Axes>"
      ]
     },
     "metadata": {
      "needs_background": "light"
     },
     "output_type": "display_data"
    }
   ],
   "source": [
    "fig, ax = plt.subplots(1);\n",
    "\n",
    "# Plotting x and y for dataset group I\n",
    "ax.scatter(df_ans[df_ans.dataset=='I']['x'], \n",
    "           df_ans[df_ans.dataset=='I']['y'], \n",
    "           c = 'r', marker='^');\n",
    "\n",
    "ax.set_xlabel('x label');\n",
    "ax.set_ylabel('y label');"
   ]
  },
  {
   "cell_type": "markdown",
   "metadata": {
    "id": "hal4bch5x3DU"
   },
   "source": [
    "#### Setting colors"
   ]
  },
  {
   "cell_type": "code",
   "execution_count": 24,
   "metadata": {
    "colab": {
     "base_uri": "https://localhost:8080/"
    },
    "id": "9fGr1W6Fx9V2",
    "outputId": "f94748bd-67ab-4898-b42c-8e10450570f5"
   },
   "outputs": [
    {
     "data": {
      "text/plain": [
       "['red', 'red', 'red', 'red', 'red', 'red', 'red', 'red', 'red', 'blue', 'blue']"
      ]
     },
     "execution_count": 24,
     "metadata": {},
     "output_type": "execute_result"
    }
   ],
   "source": [
    "kulay = ['red']* 9 + ['blue'] * 2\n",
    "kulay"
   ]
  },
  {
   "cell_type": "code",
   "execution_count": 25,
   "metadata": {
    "colab": {
     "base_uri": "https://localhost:8080/",
     "height": 390
    },
    "id": "C4t4xb_Idogg",
    "outputId": "d7f03a21-e336-478f-b0af-0798ca2c577b"
   },
   "outputs": [
    {
     "data": {
      "text/html": [
       "<div>\n",
       "<style scoped>\n",
       "    .dataframe tbody tr th:only-of-type {\n",
       "        vertical-align: middle;\n",
       "    }\n",
       "\n",
       "    .dataframe tbody tr th {\n",
       "        vertical-align: top;\n",
       "    }\n",
       "\n",
       "    .dataframe thead th {\n",
       "        text-align: right;\n",
       "    }\n",
       "</style>\n",
       "<table border=\"1\" class=\"dataframe\">\n",
       "  <thead>\n",
       "    <tr style=\"text-align: right;\">\n",
       "      <th></th>\n",
       "      <th>dataset</th>\n",
       "      <th>x</th>\n",
       "      <th>y</th>\n",
       "    </tr>\n",
       "  </thead>\n",
       "  <tbody>\n",
       "    <tr>\n",
       "      <th>0</th>\n",
       "      <td>I</td>\n",
       "      <td>10.0</td>\n",
       "      <td>8.04</td>\n",
       "    </tr>\n",
       "    <tr>\n",
       "      <th>1</th>\n",
       "      <td>I</td>\n",
       "      <td>8.0</td>\n",
       "      <td>6.95</td>\n",
       "    </tr>\n",
       "    <tr>\n",
       "      <th>2</th>\n",
       "      <td>I</td>\n",
       "      <td>13.0</td>\n",
       "      <td>7.58</td>\n",
       "    </tr>\n",
       "    <tr>\n",
       "      <th>3</th>\n",
       "      <td>I</td>\n",
       "      <td>9.0</td>\n",
       "      <td>8.81</td>\n",
       "    </tr>\n",
       "    <tr>\n",
       "      <th>4</th>\n",
       "      <td>I</td>\n",
       "      <td>11.0</td>\n",
       "      <td>8.33</td>\n",
       "    </tr>\n",
       "    <tr>\n",
       "      <th>5</th>\n",
       "      <td>I</td>\n",
       "      <td>14.0</td>\n",
       "      <td>9.96</td>\n",
       "    </tr>\n",
       "    <tr>\n",
       "      <th>6</th>\n",
       "      <td>I</td>\n",
       "      <td>6.0</td>\n",
       "      <td>7.24</td>\n",
       "    </tr>\n",
       "    <tr>\n",
       "      <th>7</th>\n",
       "      <td>I</td>\n",
       "      <td>4.0</td>\n",
       "      <td>4.26</td>\n",
       "    </tr>\n",
       "    <tr>\n",
       "      <th>8</th>\n",
       "      <td>I</td>\n",
       "      <td>12.0</td>\n",
       "      <td>10.84</td>\n",
       "    </tr>\n",
       "    <tr>\n",
       "      <th>9</th>\n",
       "      <td>I</td>\n",
       "      <td>7.0</td>\n",
       "      <td>4.82</td>\n",
       "    </tr>\n",
       "    <tr>\n",
       "      <th>10</th>\n",
       "      <td>I</td>\n",
       "      <td>5.0</td>\n",
       "      <td>5.68</td>\n",
       "    </tr>\n",
       "  </tbody>\n",
       "</table>\n",
       "</div>"
      ],
      "text/plain": [
       "   dataset     x      y\n",
       "0        I  10.0   8.04\n",
       "1        I   8.0   6.95\n",
       "2        I  13.0   7.58\n",
       "3        I   9.0   8.81\n",
       "4        I  11.0   8.33\n",
       "5        I  14.0   9.96\n",
       "6        I   6.0   7.24\n",
       "7        I   4.0   4.26\n",
       "8        I  12.0  10.84\n",
       "9        I   7.0   4.82\n",
       "10       I   5.0   5.68"
      ]
     },
     "execution_count": 25,
     "metadata": {},
     "output_type": "execute_result"
    }
   ],
   "source": [
    "df_ans[df_ans.dataset=='I']"
   ]
  },
  {
   "cell_type": "code",
   "execution_count": 26,
   "metadata": {
    "colab": {
     "base_uri": "https://localhost:8080/",
     "height": 279
    },
    "id": "rsi-UcPpx9SK",
    "outputId": "77e6027a-12c5-463a-bcf3-0b626df4aa2e"
   },
   "outputs": [
    {
     "data": {
      "image/png": "[encoded data removed]",
      "text/plain": [
       "<Figure size 432x288 with 1 Axes>"
      ]
     },
     "metadata": {
      "needs_background": "light"
     },
     "output_type": "display_data"
    }
   ],
   "source": [
    "fig, ax = plt.subplots(1);\n",
    "x = df_ans[df_ans.dataset=='I']['x']\n",
    "y = df_ans[df_ans.dataset=='I']['y']\n",
    "\n",
    "ax.scatter(x, y, c = kulay);\n",
    "ax.set_xlabel('x label');\n",
    "ax.set_ylabel('y label');"
   ]
  },
  {
   "cell_type": "markdown",
   "metadata": {
    "id": "9MiEyfW9xfPq"
   },
   "source": [
    "Okay, that's a very crude way dealing with colors on matplotlib. We'll cover more on colors later in this notebook."
   ]
  },
  {
   "cell_type": "markdown",
   "metadata": {
    "id": "lFIuitQwyAuD"
   },
   "source": [
    "#### Grouping and Adding Legends"
   ]
  },
  {
   "cell_type": "code",
   "execution_count": 27,
   "metadata": {
    "colab": {
     "base_uri": "https://localhost:8080/",
     "height": 279
    },
    "id": "pbVoBVA4MAxp",
    "outputId": "a79020a5-d0f2-4606-b313-8d9e11540213"
   },
   "outputs": [
    {
     "data": {
      "image/png": "[encoded data removed]",
      "text/plain": [
       "<Figure size 432x288 with 1 Axes>"
      ]
     },
     "metadata": {
      "needs_background": "light"
     },
     "output_type": "display_data"
    }
   ],
   "source": [
    "fig, ax = plt.subplots(1)\n",
    "\n",
    "x1 = df_ans[df_ans.dataset=='I']['x']\n",
    "y1 = df_ans[df_ans.dataset=='I']['y']\n",
    "x2 = df_ans[df_ans.dataset=='II']['x']\n",
    "y2 = df_ans[df_ans.dataset=='II']['y']\n",
    "\n",
    "ax.scatter(x1, y1, c = 'r', label = 'Group I');\n",
    "ax.scatter(x2, y2, c = 'b', label = 'Group II');\n",
    "\n",
    "ax.set_xlabel('x label');\n",
    "ax.set_ylabel('y label');\n",
    "\n",
    "ax.legend(loc=1);"
   ]
  },
  {
   "cell_type": "markdown",
   "metadata": {
    "id": "VxZ1KWsnZLNg"
   },
   "source": [
    "What if you want the legend placed outside of the plot as shown below, you can just use the `bbox_to_anchor` argument."
   ]
  },
  {
   "cell_type": "code",
   "execution_count": 28,
   "metadata": {
    "colab": {
     "base_uri": "https://localhost:8080/",
     "height": 279
    },
    "id": "SF7JWhtXk1Jg",
    "outputId": "a875dbee-9f30-47d6-fd56-3a3bb60d8d80"
   },
   "outputs": [
    {
     "data": {
      "image/png": "[encoded data removed]",
      "text/plain": [
       "<Figure size 432x288 with 1 Axes>"
      ]
     },
     "metadata": {
      "needs_background": "light"
     },
     "output_type": "display_data"
    }
   ],
   "source": [
    "fig, ax = plt.subplots(1)\n",
    "\n",
    "x1 = df_ans[df_ans.dataset=='I']['x']\n",
    "y1 = df_ans[df_ans.dataset=='I']['y']\n",
    "x2 = df_ans[df_ans.dataset=='II']['x']\n",
    "y2 = df_ans[df_ans.dataset=='II']['y']\n",
    "\n",
    "ax.scatter(x1, y1, c = 'r', marker = '^', label = 'Group I');\n",
    "ax.scatter(x2, y2, c = 'b', marker = 'v', label = 'Group II');\n",
    "\n",
    "ax.set_xlabel('x label');\n",
    "ax.set_ylabel('y label');\n",
    "\n",
    "ax.legend(bbox_to_anchor=(1.3, .9), frameon=False);"
   ]
  },
  {
   "cell_type": "markdown",
   "metadata": {
    "id": "oCSAp4bsyIb_"
   },
   "source": [
    "#### Annotating\n",
    "Of course, we can also annotate our figures."
   ]
  },
  {
   "cell_type": "code",
   "execution_count": 29,
   "metadata": {
    "colab": {
     "base_uri": "https://localhost:8080/",
     "height": 279
    },
    "id": "7r2EncqtyKjn",
    "outputId": "3d92393a-e5d7-4533-9971-a23e712e9065"
   },
   "outputs": [
    {
     "data": {
      "image/png": "[encoded data removed]",
      "text/plain": [
       "<Figure size 432x288 with 1 Axes>"
      ]
     },
     "metadata": {
      "needs_background": "light"
     },
     "output_type": "display_data"
    }
   ],
   "source": [
    "fig, ax = plt.subplots(1);\n",
    "\n",
    "x1 = df_ans[df_ans.dataset=='I']['x']\n",
    "y1 = df_ans[df_ans.dataset=='I']['y']\n",
    "x2 = df_ans[df_ans.dataset=='II']['x']\n",
    "y2 = df_ans[df_ans.dataset=='II']['y']\n",
    "\n",
    "ax.scatter(x1, y1, c = 'r', label = 'Group I');\n",
    "ax.scatter(x2, y2, c = 'b', label = 'Group II');\n",
    "\n",
    "ax.set_xlabel('x label');\n",
    "ax.set_ylabel('y label');\n",
    "\n",
    "ax.text(12, 4, 'MSDS 2022', size = 10);\n",
    "ax.legend();"
   ]
  },
  {
   "cell_type": "code",
   "execution_count": 30,
   "metadata": {
    "colab": {
     "base_uri": "https://localhost:8080/"
    },
    "id": "WQjxWGgbx9ER",
    "outputId": "1e25fb33-6ec4-48e3-f6d4-19ec70784ff8"
   },
   "outputs": [
    {
     "data": {
      "text/plain": [
       "[<matplotlib.collections.PathCollection at 0x7fa1e9c98100>,\n",
       " <matplotlib.collections.PathCollection at 0x7fa2096da9a0>,\n",
       " Text(12, 4, 'MSDS 2022'),\n",
       " <matplotlib.spines.Spine at 0x7fa1d8294c10>,\n",
       " <matplotlib.spines.Spine at 0x7fa1d8294d30>,\n",
       " <matplotlib.spines.Spine at 0x7fa1d8294e50>,\n",
       " <matplotlib.spines.Spine at 0x7fa1d8294f70>,\n",
       " <matplotlib.axis.XAxis at 0x7fa1d8294bb0>,\n",
       " <matplotlib.axis.YAxis at 0x7fa1d828e5b0>,\n",
       " Text(0.5, 1.0, ''),\n",
       " Text(0.0, 1.0, ''),\n",
       " Text(1.0, 1.0, ''),\n",
       " <matplotlib.legend.Legend at 0x7fa1e9c981f0>,\n",
       " <matplotlib.patches.Rectangle at 0x7fa2096f7df0>]"
      ]
     },
     "execution_count": 30,
     "metadata": {},
     "output_type": "execute_result"
    }
   ],
   "source": [
    "ax.get_children()"
   ]
  },
  {
   "cell_type": "markdown",
   "metadata": {
    "id": "PCMJ7aufx8mN"
   },
   "source": [
    "### Subplots"
   ]
  },
  {
   "cell_type": "markdown",
   "metadata": {
    "id": "29ZEIu1nxqbn"
   },
   "source": [
    "Althought using `pyplot` seems easier, identifying the axes will come in handy once we deal with subplots or multiple plots in a figure. \n",
    "\n",
    "So far, we have just been drawing a `Figure` with only one `Axes`. But as mentioned above, `plt.subplots` allows us to actually draw a set of `Axes`. In the example below, we are making \"space\" for two `Axes`; `plt.subplots(1,2)` says that we draw two `Axes` using the layout `plt.subplots(nrows=1, ncols=2)`. "
   ]
  },
  {
   "cell_type": "code",
   "execution_count": 31,
   "metadata": {
    "colab": {
     "base_uri": "https://localhost:8080/",
     "height": 279
    },
    "id": "BDiY050Jqxtb",
    "outputId": "6d51380f-9c28-4956-9d63-f8f1ad12d311"
   },
   "outputs": [
    {
     "data": {
      "image/png": "[encoded data removed]",
      "text/plain": [
       "<Figure size 432x288 with 2 Axes>"
      ]
     },
     "metadata": {
      "needs_background": "light"
     },
     "output_type": "display_data"
    }
   ],
   "source": [
    "fig, ax = plt.subplots(1,2)\n",
    "\n",
    "# First Axes\n",
    "ax[0].plot(df_ans[df_ans.dataset=='I']['x'], \n",
    "           df_ans[df_ans.dataset=='I']['y'],'r.');\n",
    "ax[0].set_xlabel('x label')\n",
    "ax[0].set_ylabel('y label')\n",
    "\n",
    "# Second Axes\n",
    "ax[1].plot(df_ans[df_ans.dataset=='II']['x'], \n",
    "           df_ans[df_ans.dataset=='II']['y'],'r.');\n",
    "ax[1].set_xlabel('x2 label');\n",
    "ax[1].set_ylabel('y2 label');"
   ]
  },
  {
   "cell_type": "code",
   "execution_count": 32,
   "metadata": {
    "colab": {
     "base_uri": "https://localhost:8080/",
     "height": 297
    },
    "id": "ddcT5AfMrAY7",
    "outputId": "bbed316d-7cce-4a2d-8358-ae25b3f3639e"
   },
   "outputs": [
    {
     "data": {
      "image/png": "[encoded data removed]",
      "text/plain": [
       "<Figure size 432x288 with 2 Axes>"
      ]
     },
     "metadata": {
      "needs_background": "light"
     },
     "output_type": "display_data"
    }
   ],
   "source": [
    "fig, ax = plt.subplots(1,2)\n",
    "\n",
    "# First Axes\n",
    "ax[0].plot(df_ans[df_ans.dataset=='I']['x'], \n",
    "           df_ans[df_ans.dataset=='I']['y'],'r.');\n",
    "ax[0].set_xlabel('x label')\n",
    "ax[0].set_ylabel('y label')\n",
    "\n",
    "# Second Axes\n",
    "ax[1].plot(df_ans[df_ans.dataset=='II']['x'], \n",
    "           df_ans[df_ans.dataset=='II']['y'],'r.', label='Group 2');\n",
    "ax[1].set_xlabel('x2 label');\n",
    "ax[1].set_ylabel('y2 label');\n",
    "ax[1].plot(df_ans[df_ans.dataset=='III']['x'], \n",
    "         df_ans[df_ans.dataset=='III'][\"y\"], 'b.', label='Group 3');\n",
    "ax[1].legend(loc=4,frameon = False);\n",
    "\n",
    "plt.tight_layout()"
   ]
  },
  {
   "cell_type": "markdown",
   "metadata": {
    "id": "D54aNOeuaSYZ"
   },
   "source": [
    "But what if the `Axes` objects actually have the same y-axis? Can they share axes? Short answer, yes. \n",
    "\n",
    "To learn more about the sharing of axes, [read more here](https://matplotlib.org/stable/api/_as_gen/matplotlib.pyplot.subplots.html)."
   ]
  },
  {
   "cell_type": "code",
   "execution_count": 33,
   "metadata": {
    "colab": {
     "base_uri": "https://localhost:8080/",
     "height": 297
    },
    "id": "j1secfh-ae-5",
    "outputId": "e745db17-4d52-46cb-a710-2019c0834156"
   },
   "outputs": [
    {
     "data": {
      "image/png": "[encoded data removed]",
      "text/plain": [
       "<Figure size 432x288 with 2 Axes>"
      ]
     },
     "metadata": {
      "needs_background": "light"
     },
     "output_type": "display_data"
    }
   ],
   "source": [
    "fig, ax = plt.subplots(1,2, sharey=True)\n",
    "\n",
    "# First Axes\n",
    "ax[0].plot(df_ans[df_ans.dataset=='I']['x'], \n",
    "           df_ans[df_ans.dataset=='I']['y'],'r.');\n",
    "ax[0].set_xlabel('x label')\n",
    "ax[0].set_ylabel('y label')\n",
    "\n",
    "# Second Axes\n",
    "ax[1].plot(df_ans[df_ans.dataset=='II']['x'], \n",
    "           df_ans[df_ans.dataset=='II']['y'],'r.', label='Group 2');\n",
    "ax[1].set_xlabel('x2 label');\n",
    "ax[1].plot(df_ans[df_ans.dataset=='III']['x'], \n",
    "         df_ans[df_ans.dataset=='III'][\"y\"], 'b.', label='Group 3');\n",
    "ax[1].legend(loc=4,frameon = False);\n",
    "\n",
    "plt.tight_layout()"
   ]
  },
  {
   "cell_type": "markdown",
   "metadata": {
    "id": "XblEm_PU-fLW"
   },
   "source": [
    "There are other ways to create your subplots. Here, we're showing how you can use `Figure.add_subplot` and `Figure.add_axes`. Can you explore when these are more handy than `plt.subplots`?"
   ]
  },
  {
   "cell_type": "code",
   "execution_count": 34,
   "metadata": {
    "colab": {
     "base_uri": "https://localhost:8080/",
     "height": 273
    },
    "id": "M_D3sIxXyPNz",
    "outputId": "5e5f5557-bb36-4a03-9c75-19e87ec3bd45"
   },
   "outputs": [
    {
     "data": {
      "image/png": "[encoded data removed]",
      "text/plain": [
       "<Figure size 432x288 with 2 Axes>"
      ]
     },
     "metadata": {
      "needs_background": "light"
     },
     "output_type": "display_data"
    }
   ],
   "source": [
    "fig = plt.figure()\n",
    "ax1 = fig.add_subplot(2,1,1)\n",
    "\n",
    "## Specify location where new axes is drawn\n",
    "## left, bottom, width, height\n",
    "ax2 = fig.add_axes([0.5, 0.1, 0.4, 0.3])\n",
    "\n",
    "## Plot\n",
    "ax1.plot(df_ans[df_ans.dataset=='I']['x'], \n",
    "         df_ans[df_ans.dataset=='I']['y'],'r.');\n",
    "ax2.plot(df_ans[df_ans.dataset=='II']['x'], \n",
    "df_ans[df_ans.dataset=='II']['y'],'b.');"
   ]
  },
  {
   "cell_type": "markdown",
   "metadata": {
    "id": "j6Rp4_qibPnd"
   },
   "source": [
    "Below, try to change the third argument for `ax2`. See what happens using the following:\n",
    "\n",
    "- `ax2 = fig.add_subplot(2,2,4);`\n",
    "- `ax2 = fig.add_subplot(2,2,2);`\n",
    "- `ax2 = fig.add_subplot(2,2,3);`\n",
    "\n"
   ]
  },
  {
   "cell_type": "code",
   "execution_count": 35,
   "metadata": {
    "colab": {
     "base_uri": "https://localhost:8080/",
     "height": 269
    },
    "id": "2IV7EqClY8Q8",
    "outputId": "64acdb67-6aad-4abb-8025-86199c6315ac"
   },
   "outputs": [
    {
     "data": {
      "image/png": "[encoded data removed]",
      "text/plain": [
       "<Figure size 432x288 with 2 Axes>"
      ]
     },
     "metadata": {
      "needs_background": "light"
     },
     "output_type": "display_data"
    }
   ],
   "source": [
    "fig = plt.figure();\n",
    "\n",
    "ax1 = fig.add_subplot(2,2,1);\n",
    "ax2 = fig.add_subplot(2,2,4);\n",
    "\n",
    "ax2.scatter(df_ans[df_ans.dataset=='II']['x'], \n",
    "           df_ans[df_ans.dataset=='II']['y'], c = 'g', label='Group 2');\n",
    "\n",
    "\n",
    "# Plotting x and y for dataset group I\n",
    "ax2.scatter(df_ans[df_ans.dataset=='I']['x'], \n",
    "           df_ans[df_ans.dataset=='I']['y'], c = 'r');\n",
    "ax2.legend()\n",
    "\n",
    "ax1.set_xlabel('x label');\n",
    "ax1.set_ylabel('y label');"
   ]
  },
  {
   "cell_type": "code",
   "execution_count": 36,
   "metadata": {
    "colab": {
     "base_uri": "https://localhost:8080/",
     "height": 273
    },
    "id": "ylpPArohyPK1",
    "outputId": "59237b13-79ba-4a9f-9d80-a5f53baf5618"
   },
   "outputs": [
    {
     "data": {
      "image/png": "[encoded data removed]",
      "text/plain": [
       "<Figure size 432x288 with 3 Axes>"
      ]
     },
     "metadata": {
      "needs_background": "light"
     },
     "output_type": "display_data"
    }
   ],
   "source": [
    "fig = plt.figure()\n",
    "\n",
    "margs = fig.add_subplot(2,1,1)\n",
    "margs.plot(df_ans[df_ans.dataset=='I']['x'], \n",
    "         df_ans[df_ans.dataset=='I']['y'],'r.');\n",
    "\n",
    "anna = fig.add_axes([0.3, 0.1, 0.6, 0.3])\n",
    "anna.plot(df_ans[df_ans.dataset=='II']['x'], \n",
    "         df_ans[df_ans.dataset=='II']['y'],'b.');\n",
    "\n",
    "ven = fig.add_axes([.4, .3, .2, .2], facecolor='fuchsia');\n",
    "ven.text(.3,.4, 'Hello');"
   ]
  },
  {
   "cell_type": "markdown",
   "metadata": {
    "id": "FT2qHf4dyZb_"
   },
   "source": [
    "#### Exercises\n",
    "\n",
    "Draw a figure with four (4) subplots. Each subplot contains the $x$-$y$ scatter plot for each group in the Anscombe's quartet. Add regression lines in each using the `np.polyfit()` function. In the fourth `Axes` or subplot, add a legend: \"Empirical\" and \"Linear Fit\". \n",
    "\n",
    "\n",
    "`np.polyfit()`  \n",
    "`fit = np.polyfit(x, y, deg=1)`\n",
    "\n",
    "##### (1)\n",
    "<img src=\"https://user-images.githubusercontent.com/12478436/119073744-6c157f00-ba20-11eb-8c6d-8432bbb92628.png\" title=\"Exercise 1\" width=700>\n",
    "\n",
    "##### (2)\n",
    "<img src=\"https://user-images.githubusercontent.com/12478436/119150673-3e145700-ba81-11eb-8673-13a2352189d6.png\" width=700 title=\"Exercise 2\">\n",
    "\n",
    "#### (3)\n",
    "<img src=\"https://user-images.githubusercontent.com/12478436/119073736-691a8e80-ba20-11eb-9b40-ce82dbbf8543.png\" width=700 title=\"Exercise 3\">\n",
    "\n",
    "#### (end of exercises)\n"
   ]
  },
  {
   "cell_type": "markdown",
   "metadata": {
    "id": "-CKtFHveywUM"
   },
   "source": [
    "#### GridSpec\n",
    "From the documentation, `gridspec` \"specifies the geometry of the grid that a subplot will be placed. The number of rows and number of columns of the grid need to be set. Optionally, the subplot layout parameters (e.g., left, right, etc.) can be tuned.\"\n",
    "\n"
   ]
  },
  {
   "cell_type": "code",
   "execution_count": 37,
   "metadata": {
    "colab": {
     "base_uri": "https://localhost:8080/",
     "height": 297
    },
    "id": "dLcRiB_my0dY",
    "outputId": "0904af27-e7d5-48d6-df92-be593b6061d2"
   },
   "outputs": [
    {
     "data": {
      "image/png": "[encoded data removed]",
      "text/plain": [
       "<Figure size 432x288 with 5 Axes>"
      ]
     },
     "metadata": {
      "needs_background": "light"
     },
     "output_type": "display_data"
    }
   ],
   "source": [
    "import matplotlib.gridspec as gridspec\n",
    "\n",
    "gs = gridspec.GridSpec(3,3)\n",
    "\n",
    "ax1 = plt.subplot(gs[0,:])\n",
    "ax2 = plt.subplot(gs[1, :-1])\n",
    "ax3 = plt.subplot(gs[1:, -1])\n",
    "ax4 = plt.subplot(gs[-1, 0])\n",
    "ax5 = plt.subplot(gs[-1, -2])\n",
    "\n",
    "ax1.text(0.4, 0.4, \"ax1\", size=20)\n",
    "ax2.text(0.4, 0.4, \"ax2\", size=20)\n",
    "ax3.text(0.4, 0.4, \"ax3\", size=20)\n",
    "ax4.text(0.4, 0.4, \"ax4\", size=20)\n",
    "ax5.text(0.4, 0.4, \"ax5\", size=20)\n",
    "\n",
    "plt.tight_layout()"
   ]
  },
  {
   "cell_type": "code",
   "execution_count": 38,
   "metadata": {
    "colab": {
     "base_uri": "https://localhost:8080/",
     "height": 299
    },
    "id": "PgiGTm35y5Rt",
    "outputId": "e0a99aa3-daee-4569-e2fa-1b2db4be5c47"
   },
   "outputs": [
    {
     "data": {
      "image/png": "[encoded data removed]",
      "text/plain": [
       "<Figure size 432x288 with 6 Axes>"
      ]
     },
     "metadata": {
      "needs_background": "light"
     },
     "output_type": "display_data"
    }
   ],
   "source": [
    "gs = gridspec.GridSpec(3,3)\n",
    "ax1 = plt.subplot(gs[0,:])\n",
    "ax2 = plt.subplot(gs[1, :-1])\n",
    "ax3 = plt.subplot(gs[1:, -1])\n",
    "ax4 = plt.subplot(gs[-1, 0])\n",
    "ax5 = plt.subplot(gs[-1, -2])\n",
    "\n",
    "\n",
    "fig = plt.gcf()\n",
    "fig.text(0.5, 0.04, 'common X', ha='center');\n",
    "fig.text(0.04, 0.5, 'common Y', va='center', rotation='vertical');\n",
    "plt.tight_layout()\n",
    "\n",
    "\n",
    "ax6 = fig.add_axes([.75,.2,.1,.1], facecolor=\"blue\")\n",
    "ax6.plot()\n",
    "ax6.set_xticks([]);\n",
    "ax6.set_yticks([]);"
   ]
  },
  {
   "cell_type": "markdown",
   "metadata": {
    "id": "TX2tFf_q0Rkh"
   },
   "source": [
    "## Other Chart Types\n",
    "In this section, let's explore other chart types."
   ]
  },
  {
   "cell_type": "code",
   "execution_count": 39,
   "metadata": {
    "id": "EOkWQSr-1KKL"
   },
   "outputs": [],
   "source": [
    "doing_sci = pd.DataFrame({'response':['Bored', 'Not Great', 'OK', \n",
    "                                     'Kind of Interested', 'Excited'],\n",
    "                         'pre-survey':[11, 5, 40, 25, 19], \n",
    "                         'post-survey':[12,6, 14, 30, 38]})"
   ]
  },
  {
   "cell_type": "code",
   "execution_count": 40,
   "metadata": {
    "colab": {
     "base_uri": "https://localhost:8080/",
     "height": 204
    },
    "id": "aAsQJ0nP14jk",
    "outputId": "9fab29c0-ea91-4544-c8dd-f75610bce974"
   },
   "outputs": [
    {
     "data": {
      "text/html": [
       "<div>\n",
       "<style scoped>\n",
       "    .dataframe tbody tr th:only-of-type {\n",
       "        vertical-align: middle;\n",
       "    }\n",
       "\n",
       "    .dataframe tbody tr th {\n",
       "        vertical-align: top;\n",
       "    }\n",
       "\n",
       "    .dataframe thead th {\n",
       "        text-align: right;\n",
       "    }\n",
       "</style>\n",
       "<table border=\"1\" class=\"dataframe\">\n",
       "  <thead>\n",
       "    <tr style=\"text-align: right;\">\n",
       "      <th></th>\n",
       "      <th>response</th>\n",
       "      <th>pre-survey</th>\n",
       "      <th>post-survey</th>\n",
       "    </tr>\n",
       "  </thead>\n",
       "  <tbody>\n",
       "    <tr>\n",
       "      <th>0</th>\n",
       "      <td>Bored</td>\n",
       "      <td>11</td>\n",
       "      <td>12</td>\n",
       "    </tr>\n",
       "    <tr>\n",
       "      <th>1</th>\n",
       "      <td>Not Great</td>\n",
       "      <td>5</td>\n",
       "      <td>6</td>\n",
       "    </tr>\n",
       "    <tr>\n",
       "      <th>2</th>\n",
       "      <td>OK</td>\n",
       "      <td>40</td>\n",
       "      <td>14</td>\n",
       "    </tr>\n",
       "    <tr>\n",
       "      <th>3</th>\n",
       "      <td>Kind of Interested</td>\n",
       "      <td>25</td>\n",
       "      <td>30</td>\n",
       "    </tr>\n",
       "    <tr>\n",
       "      <th>4</th>\n",
       "      <td>Excited</td>\n",
       "      <td>19</td>\n",
       "      <td>38</td>\n",
       "    </tr>\n",
       "  </tbody>\n",
       "</table>\n",
       "</div>"
      ],
      "text/plain": [
       "             response  pre-survey  post-survey\n",
       "0               Bored          11           12\n",
       "1           Not Great           5            6\n",
       "2                  OK          40           14\n",
       "3  Kind of Interested          25           30\n",
       "4             Excited          19           38"
      ]
     },
     "execution_count": 40,
     "metadata": {},
     "output_type": "execute_result"
    }
   ],
   "source": [
    "doing_sci.head()"
   ]
  },
  {
   "cell_type": "markdown",
   "metadata": {
    "id": "g0mPzUlY1JYi"
   },
   "source": [
    "### Bar plot\n"
   ]
  },
  {
   "cell_type": "code",
   "execution_count": 41,
   "metadata": {
    "colab": {
     "base_uri": "https://localhost:8080/",
     "height": 339
    },
    "id": "uWX8A2f917FL",
    "outputId": "7aed5f18-cc6f-4491-86d5-e78a2f5eeeb3"
   },
   "outputs": [
    {
     "data": {
      "image/png": "[encoded data removed]",
      "text/plain": [
       "<Figure size 432x288 with 1 Axes>"
      ]
     },
     "metadata": {
      "needs_background": "light"
     },
     "output_type": "display_data"
    }
   ],
   "source": [
    "xpos = np.arange(0,10,2)\n",
    "width = 0.75\n",
    "\n",
    "plt.bar(xpos, doing_sci['pre-survey'], width=width)\n",
    "plt.bar(xpos+width, doing_sci['post-survey'], width=width)\n",
    "\n",
    "plt.ylabel('% of Students')\n",
    "plt.xlabel('Response')\n",
    "plt.xticks(xpos + width / 2, \n",
    "           labels=doing_sci.response.to_list(), rotation=45)\n",
    "plt.legend(['pre-survey', 'post-survey']);\n",
    "mike = plt.gca()\n",
    "\n",
    "mike.spines['top'].set_visible(False)\n",
    "mike.spines['right'].set_visible(False)\n",
    "mike.spines['bottom'].set_visible(True)\n",
    "mike.spines['left'].set_visible(True);"
   ]
  },
  {
   "cell_type": "code",
   "execution_count": 42,
   "metadata": {
    "colab": {
     "base_uri": "https://localhost:8080/",
     "height": 339
    },
    "id": "5kHqu2y44Yie",
    "outputId": "84ab5588-0320-45cc-ba21-2da154d00bb3"
   },
   "outputs": [
    {
     "data": {
      "image/png": "[encoded data removed]",
      "text/plain": [
       "<Figure size 432x288 with 1 Axes>"
      ]
     },
     "metadata": {
      "needs_background": "light"
     },
     "output_type": "display_data"
    }
   ],
   "source": [
    "fig, ax = plt.subplots(1)\n",
    "\n",
    "ax.bar(xpos, doing_sci['pre-survey'], width=width)\n",
    "ax.bar(xpos+width, doing_sci['post-survey'], width=width)\n",
    "\n",
    "ax.set_ylabel('Count')\n",
    "ax.set_xlabel('Classes')\n",
    "ax.set_xticks(xpos + width / 2)\n",
    "ax.set_xticklabels(doing_sci.response.to_list(), \n",
    "                   rotation=45)\n",
    "\n",
    "ax.legend(['pre-survey', 'post-survey']);"
   ]
  },
  {
   "cell_type": "markdown",
   "metadata": {
    "id": "ZL-Ejdcp0v3o"
   },
   "source": [
    "### Pie chart\n",
    "And of course, our pie chart. "
   ]
  },
  {
   "cell_type": "code",
   "execution_count": 43,
   "metadata": {
    "colab": {
     "base_uri": "https://localhost:8080/",
     "height": 466
    },
    "id": "EVYWwWSCPlB2",
    "outputId": "b6fb3616-c949-4d7a-9c29-a1ea04aa03a5"
   },
   "outputs": [
    {
     "data": {
      "image/png": "[encoded data removed]",
      "text/plain": [
       "<Figure size 576x576 with 1 Axes>"
      ]
     },
     "metadata": {},
     "output_type": "display_data"
    }
   ],
   "source": [
    "fig, ax = plt.subplots(1,1,figsize=(8,8))\n",
    "labels = doing_sci.response.to_list()\n",
    "ax.pie(doing_sci['pre-survey'])\n",
    "ax.legend(labels);"
   ]
  },
  {
   "cell_type": "code",
   "execution_count": 44,
   "metadata": {
    "colab": {
     "base_uri": "https://localhost:8080/",
     "height": 248
    },
    "id": "nIg6hz2O90LD",
    "outputId": "09675f4b-aa4c-4a48-c882-dee8b796453d"
   },
   "outputs": [
    {
     "data": {
      "image/png": "[encoded data removed]",
      "text/plain": [
       "<Figure size 432x288 with 1 Axes>"
      ]
     },
     "metadata": {},
     "output_type": "display_data"
    }
   ],
   "source": [
    "pie = plt.pie(doing_sci['pre-survey'], labels = labels, \n",
    "       autopct='%1.f%%');"
   ]
  },
  {
   "cell_type": "markdown",
   "metadata": {
    "id": "hUG2y1B9_TFd"
   },
   "source": [
    "The fonts inside the wedges are printed in black, what if I want them in white font? How may we tweak this figure? We can take a hint by printing out the different components of the figure. \n",
    "\n",
    "Note that we \"stored\" the pie chart in the variable `pie`. Let's what's inside `pie` then."
   ]
  },
  {
   "cell_type": "code",
   "execution_count": 45,
   "metadata": {
    "colab": {
     "base_uri": "https://localhost:8080/"
    },
    "id": "DWJQ1HCt_Oku",
    "outputId": "ac8cb372-1d70-4892-b10c-18baa257f714"
   },
   "outputs": [
    {
     "data": {
      "text/plain": [
       "([<matplotlib.patches.Wedge at 0x7fa1e9c87190>,\n",
       "  <matplotlib.patches.Wedge at 0x7fa1e9c98280>,\n",
       "  <matplotlib.patches.Wedge at 0x7fa1d82623a0>,\n",
       "  <matplotlib.patches.Wedge at 0x7fa1d8262610>,\n",
       "  <matplotlib.patches.Wedge at 0x7fa1e9d3e640>],\n",
       " [Text(1.0349688465473768, 0.372611710331805, 'Bored'),\n",
       "  Text(0.7274430530148199, 0.8251221755718835, 'Not Great'),\n",
       "  Text(-0.7011664053880502, 0.8475645532673017, 'OK'),\n",
       "  Text(-0.4368626409454568, -1.0095301050222134, 'Kind of Interested'),\n",
       "  Text(0.9097886508052714, -0.6182916875277591, 'Excited')],\n",
       " [Text(0.5645284617531144, 0.20324275109007545, '11%'),\n",
       "  Text(0.39678711982626536, 0.4500666412210273, '5%'),\n",
       "  Text(-0.3824544029389364, 0.4623079381458009, '40%'),\n",
       "  Text(-0.2382887132429764, -0.5506527845575708, '25%'),\n",
       "  Text(0.49624835498469344, -0.3372500113787777, '19%')])"
      ]
     },
     "execution_count": 45,
     "metadata": {},
     "output_type": "execute_result"
    }
   ],
   "source": [
    "pie"
   ]
  },
  {
   "cell_type": "markdown",
   "metadata": {
    "id": "iQpG0od9_rTb"
   },
   "source": [
    "Here, we see that `pie` is a tuple. Observe the elements in the tuple above. And connect your observation with the code cell below that prints the data text (or \"autotext\") in white font. "
   ]
  },
  {
   "cell_type": "code",
   "execution_count": 46,
   "metadata": {
    "colab": {
     "base_uri": "https://localhost:8080/",
     "height": 466
    },
    "id": "sBMFmnz752tK",
    "outputId": "41a0c604-07bc-4231-ef67-beb1d1b062c5"
   },
   "outputs": [
    {
     "data": {
      "image/png": "[encoded data removed]",
      "text/plain": [
       "<Figure size 576x576 with 1 Axes>"
      ]
     },
     "metadata": {},
     "output_type": "display_data"
    }
   ],
   "source": [
    "fig, ax = plt.subplots(1,1,figsize=(8,8))\n",
    "wedges, responses, autotexts = ax.pie(doing_sci['pre-survey'], labels = labels, \n",
    "       autopct='%1.f%%', textprops=dict(color='k', size=14, ));\n",
    "for autotext in autotexts:\n",
    "  autotext.set_color('w');"
   ]
  },
  {
   "cell_type": "code",
   "execution_count": 47,
   "metadata": {
    "colab": {
     "base_uri": "https://localhost:8080/"
    },
    "id": "MxvDcXLWuZ0X",
    "outputId": "36e90ab1-8e74-40ee-d8e3-2c544ae14132"
   },
   "outputs": [
    {
     "data": {
      "text/plain": [
       "[Text(0.5645284617531144, 0.20324275109007545, '11%'),\n",
       " Text(0.39678711982626536, 0.4500666412210273, '5%'),\n",
       " Text(-0.3824544029389364, 0.4623079381458009, '40%'),\n",
       " Text(-0.2382887132429764, -0.5506527845575708, '25%'),\n",
       " Text(0.49624835498469344, -0.3372500113787777, '19%')]"
      ]
     },
     "execution_count": 47,
     "metadata": {},
     "output_type": "execute_result"
    }
   ],
   "source": [
    "autotexts"
   ]
  },
  {
   "cell_type": "markdown",
   "metadata": {
    "id": "G7SMcdes_97S"
   },
   "source": [
    "And that is it for your first dive into **matplotlib**'s `pyplot` and object-oriented interfaces. _#End_\n"
   ]
  },
  {
   "cell_type": "markdown",
   "metadata": {},
   "source": [
    "---\n",
    "To **proceed to the next notebook** on Seaborn and Plotly: \\[[github](https://github.com/eflegara/Data-Viz-Python/blob/main/Intro%20to%20Data%20Viz%20with%20Python%20(Part%20II).ipynb)\\] \\[[colab](https://colab.research.google.com/github/eflegara/Data-Viz-Python/blob/main/Intro%20to%20Data%20Viz%20with%20Python%20(Part%20II).ipynb)\\]  "
   ]
  },
  {
   "cell_type": "markdown",
   "metadata": {},
   "source": [
    "<table align=\"left\" border=0>\n",
    "<!-- <table class=\"tfo-notebook-buttons\" align=\"left\"> -->\n",
    "  <td>\n",
    "    <a target=\"_blank\" href=\"https://github.com/eflegara/Data-Viz-Python/blob/main/Intro%20to%20Data%20Viz%20with%20Python%20(Part%20I).ipynb\" title=\"view source on Github\"><img src=\"https://www.tensorflow.org/images/GitHub-Mark-32px.png\" /></a>\n",
    "  </td>\n",
    "</table>\n",
    "\n"
   ]
  }
 ],
 "metadata": {
  "colab": {
   "collapsed_sections": [],
   "name": "Data Visualization with Python (Part I)",
   "provenance": []
  },
  "kernelspec": {
   "display_name": "Python 3",
   "language": "python",
   "name": "python3"
  },
  "language_info": {
   "codemirror_mode": {
    "name": "ipython",
    "version": 3
   },
   "file_extension": ".py",
   "mimetype": "text/x-python",
   "name": "python",
   "nbconvert_exporter": "python",
   "pygments_lexer": "ipython3",
   "version": "3.8.8"
  }
 },
 "nbformat": 4,
 "nbformat_minor": 4
}
